{
  "nbformat": 4,
  "nbformat_minor": 0,
  "metadata": {
    "colab": {
      "name": "Untitled0.ipynb",
      "provenance": [],
      "authorship_tag": "ABX9TyNrSkumfYiVepHHZ5DR+NkW",
      "include_colab_link": true
    },
    "kernelspec": {
      "name": "python3",
      "display_name": "Python 3"
    },
    "language_info": {
      "name": "python"
    }
  },
  "cells": [
    {
      "cell_type": "markdown",
      "metadata": {
        "id": "view-in-github",
        "colab_type": "text"
      },
      "source": [
        "<a href=\"https://colab.research.google.com/github/lukesilvs/HelloWorld/blob/master/LearningColab.ipynb\" target=\"_parent\"><img src=\"https://colab.research.google.com/assets/colab-badge.svg\" alt=\"Open In Colab\"/></a>"
      ]
    },
    {
      "cell_type": "markdown",
      "source": [
        "Introduction"
      ],
      "metadata": {
        "id": "4COBYjJwQbbs"
      }
    },
    {
      "cell_type": "code",
      "source": [
        "print(\"Hello World\")"
      ],
      "metadata": {
        "colab": {
          "base_uri": "https://localhost:8080/"
        },
        "id": "yLEXnJBSP-Lr",
        "outputId": "61e67942-a4ca-41fb-ab2e-3a5f68cd9aee"
      },
      "execution_count": null,
      "outputs": [
        {
          "output_type": "stream",
          "name": "stdout",
          "text": [
            "Hello World\n"
          ]
        }
      ]
    },
    {
      "cell_type": "markdown",
      "source": [
        "Functions, Conditionals, and Iteration"
      ],
      "metadata": {
        "id": "C7s0cDnNQmno"
      }
    },
    {
      "cell_type": "code",
      "execution_count": null,
      "metadata": {
        "colab": {
          "base_uri": "https://localhost:8080/"
        },
        "id": "1UzUoEIeLD7Z",
        "outputId": "527509ff-1a7c-4875-9fcb-b1ac0163fd64"
      },
      "outputs": [
        {
          "output_type": "stream",
          "name": "stdout",
          "text": [
            "Now running with i: 8\n",
            "Hello World, x was <10\n",
            "Result From HelloWorld: 8\n",
            "Now running with i: 13\n",
            "Hello World, x was <=10 but <20\n",
            "Result From HelloWorld: 13\n",
            "Now running with i: 18\n",
            "Hello World, x was <=10 but <20\n",
            "Result From HelloWorld: 18\n",
            "Now running with i: 23\n",
            "Hello World, x was >=20\n",
            "Result From HelloWorld: 23\n"
          ]
        }
      ],
      "source": [
        "def HelloWorldXY(x, y):\n",
        "  if (x < 10) :\n",
        "    print(\"Hello World, x was <10\")\n",
        "  elif (x < 20) :\n",
        "    print(\"Hello World, x was <=10 but <20\")\n",
        "  else :\n",
        "    print(\"Hello World, x was >=20\")\n",
        "  return x + y\n",
        "\n",
        "for i in range(8, 25, 5):\n",
        "  print(\"Now running with i: {}\".format(i))\n",
        "  r = HelloWorldXY(i,i)\n",
        "  print(\"Result From HelloWorld: {}\".format(i, r))"
      ]
    },
    {
      "cell_type": "code",
      "source": [
        "print(HelloWorldXY(1,2))"
      ],
      "metadata": {
        "colab": {
          "base_uri": "https://localhost:8080/"
        },
        "id": "F0sSAEN1WgyB",
        "outputId": "31f6e7a2-754b-4170-83c8-da486205bb51"
      },
      "execution_count": null,
      "outputs": [
        {
          "output_type": "stream",
          "name": "stdout",
          "text": [
            "Hello World, x was <10\n",
            "3\n"
          ]
        }
      ]
    },
    {
      "cell_type": "markdown",
      "source": [
        ""
      ],
      "metadata": {
        "id": "9OJUyVCKWdda"
      }
    },
    {
      "cell_type": "code",
      "source": [
        "print(\"Iterate over the items. 'range(2)' is like a list [0,1]\")\n",
        "for i in range(2) :\n",
        "  print(i)\n",
        "\n",
        "print(\"Iterate over an actual list.\")\n",
        "for i in [0,1] :\n",
        "  print(i)\n",
        "\n",
        "print(\"While works\")\n",
        "i = 0\n",
        "while i < 2 :\n",
        "  print(i)\n",
        "  i+=1"
      ],
      "metadata": {
        "colab": {
          "base_uri": "https://localhost:8080/"
        },
        "id": "wpHHjUZBOmzj",
        "outputId": "3a2d95ba-e12b-47ba-d11d-f715861c4b9d"
      },
      "execution_count": null,
      "outputs": [
        {
          "output_type": "stream",
          "name": "stdout",
          "text": [
            "Iterate over the items. 'range(2)' is like a list [0,1]\n",
            "0\n",
            "1\n",
            "Iterate over an actual list.\n",
            "0\n",
            "1\n",
            "While works\n",
            "0\n",
            "1\n"
          ]
        }
      ]
    },
    {
      "cell_type": "markdown",
      "source": [
        ""
      ],
      "metadata": {
        "id": "wOqSpn1oWbQI"
      }
    },
    {
      "cell_type": "code",
      "source": [
        "print(\"Python supports continue and break key words\")  \n",
        "while True : \n",
        "  print(\"Entered while\")\n",
        "  break"
      ],
      "metadata": {
        "colab": {
          "base_uri": "https://localhost:8080/"
        },
        "id": "liohVp7vXt9k",
        "outputId": "c130f0c2-2701-46bb-bcae-abb9307dc8ff"
      },
      "execution_count": null,
      "outputs": [
        {
          "output_type": "stream",
          "name": "stdout",
          "text": [
            "Python supports continue and break key words\n",
            "Entered while\n"
          ]
        }
      ]
    },
    {
      "cell_type": "markdown",
      "source": [
        "# Numpy and Lists\n",
        "Python has lists built into the language. However we will use a library called numpy for this. Numpy gives you a lot of support functions that are useful for machine learning.\n",
        "\n",
        "Here you will see an import statement. This statement makes the entire numpy package available and we can access these symbols using the 'np' syntax.\n",
        "\n",
        "\n"
      ],
      "metadata": {
        "id": "0-DYIrMKYwLD"
      }
    },
    {
      "cell_type": "code",
      "source": [
        "import numpy as np #make numpy available using np.\n",
        "\n",
        "# Create a numpy array and append element \n",
        "a = np.array([\"Hello\",\"World\"])\n",
        "a = np.append(a , \"!\")\n",
        "print(\"Current array: {}\".format(a))\n",
        "print(\"Printing each element\")\n",
        "for i in a:\n",
        "  print(i)\n",
        "\n",
        "print(\"\\nPrinting each element and their index\")\n",
        "for i,e in enumerate(a): # enumerate\n",
        "  print(\"Index: {}, was: {}\".format(i, e))"
      ],
      "metadata": {
        "id": "2MT5GUZ5n9h0",
        "outputId": "4ba12661-f731-48dc-ab64-c169c76ad269",
        "colab": {
          "base_uri": "https://localhost:8080/"
        }
      },
      "execution_count": 1,
      "outputs": [
        {
          "output_type": "stream",
          "name": "stdout",
          "text": [
            "Current array: ['Hello' 'World' '!']\n",
            "Printing each element\n",
            "Hello\n",
            "World\n",
            "!\n",
            "\n",
            "Printing each element and their index\n",
            "Index: 0, was: Hello\n",
            "Index: 1, was: World\n",
            "Index: 2, was: !\n"
          ]
        }
      ]
    },
    {
      "cell_type": "code",
      "source": [
        "print(\"\\nShowing some basic math on arrays\")\n",
        "b = np.array([0,1,4,3,2])\n",
        "print(\"Max: {}\".format(np.max(b)))\n",
        "print(\"Average: {}\".format(np.average(b)))\n",
        "print(\"Max Index: {}\".format(np.argmax(b)))"
      ],
      "metadata": {
        "id": "14AiDVr5rDPp",
        "outputId": "c5b2e73e-85e6-42a4-8d7f-61638eff5fcd",
        "colab": {
          "base_uri": "https://localhost:8080/"
        }
      },
      "execution_count": 4,
      "outputs": [
        {
          "output_type": "stream",
          "name": "stdout",
          "text": [
            "\n",
            "Showing some basic math on arrays\n",
            "Max: 4\n",
            "Average: 2.0\n",
            "Max Index: 2\n"
          ]
        }
      ]
    },
    {
      "cell_type": "code",
      "source": [
        "print(\"\\nYou can print the type of anything\")\n",
        "print(\"Type of b: {}, type of b[0]: {}\".format(type(a), type(a[0])))"
      ],
      "metadata": {
        "id": "KH8N4a-XsdMQ",
        "outputId": "85ff24b6-dbc3-4aff-f118-4774642b2613",
        "colab": {
          "base_uri": "https://localhost:8080/"
        }
      },
      "execution_count": 5,
      "outputs": [
        {
          "output_type": "stream",
          "name": "stdout",
          "text": [
            "\n",
            "You can print the type of anything\n",
            "Type of b: <class 'numpy.ndarray'>, type of b[0]: <class 'numpy.str_'>\n"
          ]
        }
      ]
    },
    {
      "cell_type": "code",
      "source": [
        "print(\"\\nUse numpy to create a [3,3] dimension array with random number\")\n",
        "c = np.random.rand(3,  3)\n",
        "print(c)"
      ],
      "metadata": {
        "id": "WCOstivDt-Au",
        "outputId": "8e3b05c7-ab56-4acc-a5c6-afe4b9bdcfc7",
        "colab": {
          "base_uri": "https://localhost:8080/"
        }
      },
      "execution_count": 6,
      "outputs": [
        {
          "output_type": "stream",
          "name": "stdout",
          "text": [
            "\n",
            "Use numpy to create a [3,3] dimension array with random number\n",
            "[[9.78906498e-01 7.79665413e-04 9.62392970e-01]\n",
            " [6.08099076e-01 8.11397674e-01 8.02476736e-01]\n",
            " [7.35021444e-01 7.26449393e-01 7.65200466e-01]]\n"
          ]
        }
      ]
    },
    {
      "cell_type": "code",
      "source": [
        "print(\"\\nYou can print the dimension of arrays\")\n",
        "print(\"Shape of a: {}\".format(a.shape)) \n",
        "print(\"Shape of b: {}\".format(b.shape))\n",
        "print(\"Shape of c: {}\".format(c.shape))\n",
        "print(\"...Observe, Python uses both [0,1,2] and (0,1,2) to specify lists\")"
      ],
      "metadata": {
        "id": "ncpKGbWxu9Ge",
        "outputId": "c86e62e5-d1ad-4582-e5d6-e28b8d446ee9",
        "colab": {
          "base_uri": "https://localhost:8080/"
        }
      },
      "execution_count": 7,
      "outputs": [
        {
          "output_type": "stream",
          "name": "stdout",
          "text": [
            "\n",
            "You can print the dimension of arrays\n",
            "Shape of a: (3,)\n",
            "Shape of b: (5,)\n",
            "Shape of c: (3, 3)\n",
            "...Observe, Python uses both [0,1,2] and (0,1,2) to specify lists\n"
          ]
        }
      ]
    },
    {
      "cell_type": "code",
      "source": [
        ""
      ],
      "metadata": {
        "id": "fBa8jZpL0Nb9"
      },
      "execution_count": null,
      "outputs": []
    },
    {
      "cell_type": "markdown",
      "source": [
        "# Colab Specifics\n",
        "Colab is a virtual machine you can access directly. To run commands at the VM's terminal, prefix the line with an exclamation point(!)"
      ],
      "metadata": {
        "id": "-oDomgcP0LFJ"
      }
    },
    {
      "cell_type": "code",
      "source": [
        "print(\"\\nDoing $1s on filesystem\")\n",
        "!ls -1\n",
        "!pwd"
      ],
      "metadata": {
        "id": "OQyUGRiR08m2",
        "outputId": "77c94756-912e-402b-e911-03da8a0af1c2",
        "colab": {
          "base_uri": "https://localhost:8080/"
        }
      },
      "execution_count": 8,
      "outputs": [
        {
          "output_type": "stream",
          "name": "stdout",
          "text": [
            "\n",
            "Doing $1s on filesystem\n",
            "sample_data\n",
            "/content\n"
          ]
        }
      ]
    },
    {
      "cell_type": "code",
      "source": [
        "print(\"Install numpy\")\n",
        "!pip install numpy"
      ],
      "metadata": {
        "id": "yL-bB1sa1VPp",
        "outputId": "164ec7cb-1c1b-461f-ace5-b984b6b0d500",
        "colab": {
          "base_uri": "https://localhost:8080/"
        }
      },
      "execution_count": 9,
      "outputs": [
        {
          "output_type": "stream",
          "name": "stdout",
          "text": [
            "Install numpy\n",
            "Looking in indexes: https://pypi.org/simple, https://us-python.pkg.dev/colab-wheels/public/simple/\n",
            "Requirement already satisfied: numpy in /usr/local/lib/python3.7/dist-packages (1.21.6)\n"
          ]
        }
      ]
    },
    {
      "cell_type": "markdown",
      "source": [
        "**Exercise**\n",
        "Create a code cell underneath this text cell and add code to:\n",
        "\n",
        "\n",
        "*   List the path of the current directory\n",
        "*   Go to /(cd) and list the content(ls-l)\n",
        "\n"
      ],
      "metadata": {
        "id": "L8IuQo9-1dQY"
      }
    },
    {
      "cell_type": "code",
      "source": [
        "!pwd # list current director\n",
        "! cd / #change directory\n",
        "!ls -l #list content"
      ],
      "metadata": {
        "id": "idmesJuw277O",
        "outputId": "38c32180-39e4-44b0-b985-1b604eaea344",
        "colab": {
          "base_uri": "https://localhost:8080/"
        }
      },
      "execution_count": 12,
      "outputs": [
        {
          "output_type": "stream",
          "name": "stdout",
          "text": [
            "/content\n",
            "total 4\n",
            "drwxr-xr-x 1 root root 4096 Jul  6 13:22 sample_data\n"
          ]
        }
      ]
    },
    {
      "cell_type": "markdown",
      "source": [
        "\n",
        "**Other Notes**\n",
        "*   Using GPUs may help execute certain course tasks more quickly but dont overuse there is a limit\n",
        "*  General stuff regarding resetting runtime and clearing outputs\n",
        "\n"
      ],
      "metadata": {
        "id": "l5HldPSk7fI6"
      }
    }
  ]
}
