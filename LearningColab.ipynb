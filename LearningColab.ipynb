{
  "nbformat": 4,
  "nbformat_minor": 0,
  "metadata": {
    "colab": {
      "name": "Untitled0.ipynb",
      "provenance": [],
      "authorship_tag": "ABX9TyMc74RsIwt3eLFUiqX49NIX",
      "include_colab_link": true
    },
    "kernelspec": {
      "name": "python3",
      "display_name": "Python 3"
    },
    "language_info": {
      "name": "python"
    }
  },
  "cells": [
    {
      "cell_type": "markdown",
      "metadata": {
        "id": "view-in-github",
        "colab_type": "text"
      },
      "source": [
        "<a href=\"https://colab.research.google.com/github/lukesilvs/HelloWorld/blob/master/LearningColab.ipynb\" target=\"_parent\"><img src=\"https://colab.research.google.com/assets/colab-badge.svg\" alt=\"Open In Colab\"/></a>"
      ]
    },
    {
      "cell_type": "markdown",
      "source": [
        "Introduction"
      ],
      "metadata": {
        "id": "4COBYjJwQbbs"
      }
    },
    {
      "cell_type": "code",
      "source": [
        "print(\"Hello World\")"
      ],
      "metadata": {
        "colab": {
          "base_uri": "https://localhost:8080/"
        },
        "id": "yLEXnJBSP-Lr",
        "outputId": "61e67942-a4ca-41fb-ab2e-3a5f68cd9aee"
      },
      "execution_count": 7,
      "outputs": [
        {
          "output_type": "stream",
          "name": "stdout",
          "text": [
            "Hello World\n"
          ]
        }
      ]
    },
    {
      "cell_type": "markdown",
      "source": [
        "Functions, Conditionals, and Iteration"
      ],
      "metadata": {
        "id": "C7s0cDnNQmno"
      }
    },
    {
      "cell_type": "code",
      "execution_count": 10,
      "metadata": {
        "colab": {
          "base_uri": "https://localhost:8080/"
        },
        "id": "1UzUoEIeLD7Z",
        "outputId": "527509ff-1a7c-4875-9fcb-b1ac0163fd64"
      },
      "outputs": [
        {
          "output_type": "stream",
          "name": "stdout",
          "text": [
            "Now running with i: 8\n",
            "Hello World, x was <10\n",
            "Result From HelloWorld: 8\n",
            "Now running with i: 13\n",
            "Hello World, x was <=10 but <20\n",
            "Result From HelloWorld: 13\n",
            "Now running with i: 18\n",
            "Hello World, x was <=10 but <20\n",
            "Result From HelloWorld: 18\n",
            "Now running with i: 23\n",
            "Hello World, x was >=20\n",
            "Result From HelloWorld: 23\n"
          ]
        }
      ],
      "source": [
        "def HelloWorldXY(x, y):\n",
        "  if (x < 10) :\n",
        "    print(\"Hello World, x was <10\")\n",
        "  elif (x < 20) :\n",
        "    print(\"Hello World, x was <=10 but <20\")\n",
        "  else :\n",
        "    print(\"Hello World, x was >=20\")\n",
        "  return x + y\n",
        "\n",
        "for i in range(8, 25, 5):\n",
        "  print(\"Now running with i: {}\".format(i))\n",
        "  r = HelloWorldXY(i,i)\n",
        "  print(\"Result From HelloWorld: {}\".format(i, r))"
      ]
    },
    {
      "cell_type": "code",
      "source": [
        "print(HelloWorldXY(1,2))"
      ],
      "metadata": {
        "colab": {
          "base_uri": "https://localhost:8080/"
        },
        "id": "F0sSAEN1WgyB",
        "outputId": "31f6e7a2-754b-4170-83c8-da486205bb51"
      },
      "execution_count": 9,
      "outputs": [
        {
          "output_type": "stream",
          "name": "stdout",
          "text": [
            "Hello World, x was <10\n",
            "3\n"
          ]
        }
      ]
    },
    {
      "cell_type": "markdown",
      "source": [
        ""
      ],
      "metadata": {
        "id": "9OJUyVCKWdda"
      }
    },
    {
      "cell_type": "code",
      "source": [
        "print(\"Iterate over the items. 'range(2)' is like a list [0,1]\")\n",
        "for i in range(2) :\n",
        "  print(i)\n",
        "\n",
        "print(\"Iterate over an actual list.\")\n",
        "for i in [0,1] :\n",
        "  print(i)\n",
        "\n",
        "print(\"While works\")\n",
        "i = 0\n",
        "while i < 2 :\n",
        "  print(i)\n",
        "  i+=1"
      ],
      "metadata": {
        "colab": {
          "base_uri": "https://localhost:8080/"
        },
        "id": "wpHHjUZBOmzj",
        "outputId": "3a2d95ba-e12b-47ba-d11d-f715861c4b9d"
      },
      "execution_count": 4,
      "outputs": [
        {
          "output_type": "stream",
          "name": "stdout",
          "text": [
            "Iterate over the items. 'range(2)' is like a list [0,1]\n",
            "0\n",
            "1\n",
            "Iterate over an actual list.\n",
            "0\n",
            "1\n",
            "While works\n",
            "0\n",
            "1\n"
          ]
        }
      ]
    },
    {
      "cell_type": "markdown",
      "source": [
        ""
      ],
      "metadata": {
        "id": "wOqSpn1oWbQI"
      }
    },
    {
      "cell_type": "code",
      "source": [
        "print(\"Python supports continue and break key words\")  \n",
        "while True : \n",
        "  print(\"Entered while\")\n",
        "  break"
      ],
      "metadata": {
        "colab": {
          "base_uri": "https://localhost:8080/"
        },
        "id": "liohVp7vXt9k",
        "outputId": "c130f0c2-2701-46bb-bcae-abb9307dc8ff"
      },
      "execution_count": 13,
      "outputs": [
        {
          "output_type": "stream",
          "name": "stdout",
          "text": [
            "Python supports continue and break key words\n",
            "Entered while\n"
          ]
        }
      ]
    },
    {
      "cell_type": "markdown",
      "source": [
        "# Numpy and Lists\n",
        "Python has lists built into the language. However we will use a library called numpy for this. Numpy gives you a lot of support functions that are useful for machine learning.\n",
        "\n",
        "Here you will see an import statement. This statement makes the entire numpy package available and we can access these symbols using the 'np' syntax.\n",
        "\n",
        "\n"
      ],
      "metadata": {
        "id": "0-DYIrMKYwLD"
      }
    }
  ]
}