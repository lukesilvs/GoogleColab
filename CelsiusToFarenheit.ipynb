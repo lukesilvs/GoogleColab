{
  "nbformat": 4,
  "nbformat_minor": 0,
  "metadata": {
    "colab": {
      "name": "CelsiusToFarenheit.ipynb",
      "provenance": [],
      "authorship_tag": "ABX9TyO4yQZJ7rThQXFx6Y+btDbS",
      "include_colab_link": true
    },
    "kernelspec": {
      "name": "python3",
      "display_name": "Python 3"
    },
    "language_info": {
      "name": "python"
    }
  },
  "cells": [
    {
      "cell_type": "markdown",
      "metadata": {
        "id": "view-in-github",
        "colab_type": "text"
      },
      "source": [
        "<a href=\"https://colab.research.google.com/github/lukesilvs/GoogleColab/blob/master/CelsiusToFarenheit.ipynb\" target=\"_parent\"><img src=\"https://colab.research.google.com/assets/colab-badge.svg\" alt=\"Open In Colab\"/></a>"
      ]
    },
    {
      "cell_type": "markdown",
      "source": [
        "# Import Dependencies\n",
        "*   import TensorFlow as tf. Also telling Tensorflow to only display errors*\n",
        "*   import Numpy as np. Using Numpy to represent the data as highly performant lists*\n",
        "\n"
      ],
      "metadata": {
        "id": "EYNgBgSdfg-5"
      }
    },
    {
      "cell_type": "code",
      "execution_count": 29,
      "metadata": {
        "id": "Q9ZBGX_cfMnF"
      },
      "outputs": [],
      "source": [
        "import tensorflow as tf"
      ]
    },
    {
      "cell_type": "code",
      "source": [
        "import numpy as np\n",
        "import logging\n",
        "logger = tf.get_logger()\n",
        "logger.setLevel(logging.ERROR)\n",
        "# The numpy. log() is a mathematical function that helps user to calculate Natural logarithm of x where x belongs to all the input array elements"
      ],
      "metadata": {
        "id": "rwBreoVfgKTQ"
      },
      "execution_count": 30,
      "outputs": []
    },
    {
      "cell_type": "markdown",
      "source": [
        "# Set Up Training Data\n",
        "Creating a model that can give an output in Farenheit when given an input of celsius. Accomplish this by creating two lists: *celsius_q* and *farenheit_a* that will be used to train the model"
      ],
      "metadata": {
        "id": "cNvpr0r4golM"
      }
    },
    {
      "cell_type": "code",
      "source": [
        "celsius_q = np.array([-40, -10, 0, 8, 15, 22, 38], dtype=float)\n",
        "farenheit_a = np.array([-40, -14, 32, 46, 59, 72, 100], dtype=float)\n",
        "\n",
        "for i,c in enumerate(celsius_q):\n",
        "  print(\"{} degrees celsius = {} degrees farenheit\".format(c, farenheit_a[i])) #Enumerate() method adds a counter to an iterable and returns it in a form of enumerating object. This enumerated object can then be used directly for loops or converted into a list of tuples using the list() method."
      ],
      "metadata": {
        "colab": {
          "base_uri": "https://localhost:8080/"
        },
        "id": "FQ9oDtbKh9wu",
        "outputId": "7a38f7f6-0cfd-427f-b875-34c532eac4c9"
      },
      "execution_count": 31,
      "outputs": [
        {
          "output_type": "stream",
          "name": "stdout",
          "text": [
            "-40.0 degrees celsius = -40.0 degrees farenheit\n",
            "-10.0 degrees celsius = -14.0 degrees farenheit\n",
            "0.0 degrees celsius = 32.0 degrees farenheit\n",
            "8.0 degrees celsius = 46.0 degrees farenheit\n",
            "15.0 degrees celsius = 59.0 degrees farenheit\n",
            "22.0 degrees celsius = 72.0 degrees farenheit\n",
            "38.0 degrees celsius = 100.0 degrees farenheit\n"
          ]
        }
      ]
    },
    {
      "cell_type": "markdown",
      "source": [
        "# Create The Model\n",
        "We will be using a dense network which is the simplest model that can be used for the problem. The problem is straightforward and the network will only require a single layer and neuron\n",
        "## Build a layer\n",
        "Start by labling the layer as l0 and creiting it by instantiating *tf.keras.layers.Dense* with the following configuration\n",
        "\n",
        "\n",
        "*   input_shape = [1] - This specifies that the input to this layer is a single value. The shape is a 1 dimensional array with 1 member. As this is the only layer it is the input shape of the entire model. The single value is a floating point number representing degrees celsius.\n",
        "*   units = 1 - This specifies the number of neurons in the layer. **The number of neurons defines how many variables the layer has to solve the problem**. Since this is the final layer, it is also the size of the models output- a single float value representing degrees farenheit. **(in a multilayered network, the size and shape of the layer would need to match the *input_shape* of the next layer)**\n",
        "\n"
      ],
      "metadata": {
        "id": "ALXTmmcfjTJ0"
      }
    },
    {
      "cell_type": "code",
      "source": [
        "l0 = tf.keras.layers.Dense(units=1, input_shape=[1])"
      ],
      "metadata": {
        "id": "lFzEZaQqmKyS"
      },
      "execution_count": 32,
      "outputs": []
    },
    {
      "cell_type": "markdown",
      "source": [
        "## Assemble Layers Into The Model\n",
        "Once Layers are defined they need to be assembled into a model. The Sequential model takes a list of layers as an argument, specifying the calculation order from the input to the output\n",
        "\n",
        "This Model has the single layer l0."
      ],
      "metadata": {
        "id": "6U4ScRtpmZoS"
      }
    },
    {
      "cell_type": "code",
      "source": [
        "model = tf.keras.Sequential([l0]) "
      ],
      "metadata": {
        "id": "7SFMn7LdmzKR"
      },
      "execution_count": 33,
      "outputs": []
    },
    {
      "cell_type": "markdown",
      "source": [
        "**Note**\n",
        "Ive defined the layers before the model but theyre often defined inside the model definition"
      ],
      "metadata": {
        "id": "C_V8nyfDnSZy"
      }
    },
    {
      "cell_type": "code",
      "source": [
        "model = tf.keras.Sequential([tf.keras.layers.Dense(units=1, input_shape=[1])])"
      ],
      "metadata": {
        "id": "jssn5xlKnjQh"
      },
      "execution_count": 34,
      "outputs": []
    },
    {
      "cell_type": "markdown",
      "source": [
        "## Compile the model with loss and optimizer functions\n",
        "\n",
        "*   **Loss Function** - Measures how far off predictions are from the desired outcome. (measured difference is called the loss)\n",
        "*   **Optimizer Function** - A way of adjusting internal values to reduce the loss^\n",
        "\n",
        "\n"
      ],
      "metadata": {
        "id": "OASKHuhcnzJK"
      }
    },
    {
      "cell_type": "code",
      "source": [
        "model.compile(loss='mean_squared_error', optimizer=tf.keras.optimizers.Adam(0.1))"
      ],
      "metadata": {
        "id": "zN3bGrmDoNe5"
      },
      "execution_count": 35,
      "outputs": []
    },
    {
      "cell_type": "markdown",
      "source": [
        "These are used during the training of the model (model.fit(), bellow) to calculate the loss at each point and improve it. Trainig is the act of calculating the current loss of a model and improving it.\n",
        "\n",
        "\n",
        "---\n",
        "\n",
        "\n",
        "*   Optomizer adjusts internal variables untill they mirror the actual equation\n",
        "*   Loss Function is mean squared error and the optimiser is Adam\n",
        "\n",
        "\n",
        "\n",
        "---\n",
        "**Important to note with the optimizer**: When building a model you need to take the learning rate into account. This is the steop size taken when adjusting the model, its been set to 0.1 in the example above. Too small- it will take to many iterations to build the model. Too Large- reduced accuracy. Finding a good value involves trial and error but the range is generally between 0.001(default) and 0.1.\n",
        "\n",
        "\n",
        "\n",
        "\n",
        "\n"
      ],
      "metadata": {
        "id": "d7g5oImBowXX"
      }
    },
    {
      "cell_type": "markdown",
      "source": [
        "## Train The Model\n",
        "Model is trained by calling the *fit* method\n",
        "**finish this in am im getting tired lol** also what the difference between ' and \"\n",
        "\n"
      ],
      "metadata": {
        "id": "VlXpoLGTq4iG"
      }
    },
    {
      "cell_type": "code",
      "source": [
        "history = model.fit(celsius_q, farenheit_a, epochs=500, verbose=False)\n",
        "print(\"Finished Training the Model!\")"
      ],
      "metadata": {
        "colab": {
          "base_uri": "https://localhost:8080/"
        },
        "id": "QzkvKnMOry6V",
        "outputId": "0004ede6-ffdd-4529-88c2-cfa0f0c1a37c"
      },
      "execution_count": 36,
      "outputs": [
        {
          "output_type": "stream",
          "name": "stdout",
          "text": [
            "Finished Training the Model!\n"
          ]
        }
      ]
    },
    {
      "cell_type": "markdown",
      "source": [
        "## Display Training Statistics"
      ],
      "metadata": {
        "id": "A1R-gG5psLql"
      }
    },
    {
      "cell_type": "code",
      "source": [
        "import matplotlib.pyplot as plt\n",
        "plt.xlabel('Epoch Number')\n",
        "plt.ylabel(\"Loss Magnitude\")\n",
        "plt.plot(history.history['loss'])\n"
      ],
      "metadata": {
        "colab": {
          "base_uri": "https://localhost:8080/",
          "height": 296
        },
        "id": "3L8Wj5XUsPw1",
        "outputId": "8b7ae231-5478-4e7c-e286-de09099be031"
      },
      "execution_count": 37,
      "outputs": [
        {
          "output_type": "execute_result",
          "data": {
            "text/plain": [
              "[<matplotlib.lines.Line2D at 0x7f270aee24d0>]"
            ]
          },
          "metadata": {},
          "execution_count": 37
        },
        {
          "output_type": "display_data",
          "data": {
            "text/plain": [
              "<Figure size 432x288 with 1 Axes>"
            ],
            "image/png": "[encoded data removed]"
          },
          "metadata": {
            "needs_background": "light"
          }
        }
      ]
    },
    {
      "cell_type": "markdown",
      "source": [
        "## Use the model to predict values"
      ],
      "metadata": {
        "id": "UuUAe83nsxCc"
      }
    },
    {
      "cell_type": "code",
      "source": [
        "print(model.predict([100.0]))"
      ],
      "metadata": {
        "colab": {
          "base_uri": "https://localhost:8080/"
        },
        "id": "irIiUgRts1qC",
        "outputId": "da5e16fe-867b-4061-d6df-e39208413c41"
      },
      "execution_count": 38,
      "outputs": [
        {
          "output_type": "stream",
          "name": "stdout",
          "text": [
            "[[217.99648]]\n"
          ]
        }
      ]
    },
    {
      "cell_type": "markdown",
      "source": [
        "## Looking at the Layer Weights"
      ],
      "metadata": {
        "id": "ct91V9Nqs_i8"
      }
    },
    {
      "cell_type": "code",
      "source": [
        "print(\"These are the layer variables: {}\".format(l0.get_weights()))"
      ],
      "metadata": {
        "colab": {
          "base_uri": "https://localhost:8080/"
        },
        "id": "9D0JTr6ytDxM",
        "outputId": "3bfce79e-ecc9-4e4e-e1c8-f5df0745d503"
      },
      "execution_count": 39,
      "outputs": [
        {
          "output_type": "stream",
          "name": "stdout",
          "text": [
            "These are the layer variables: [array([[-1.5749754]], dtype=float32), array([0.], dtype=float32)]\n"
          ]
        }
      ]
    },
    {
      "cell_type": "code",
      "source": [
        ""
      ],
      "metadata": {
        "id": "0A7WcHOstFG8"
      },
      "execution_count": 39,
      "outputs": []
    }
  ]
}